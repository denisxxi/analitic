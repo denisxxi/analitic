{
 "cells": [
  {
   "cell_type": "markdown",
   "id": "bcdcf123",
   "metadata": {},
   "source": [
    "Этюд \"Из SQL в Python\": \n",
    "select count(*) as cnt, sum(id_driver) as sum_id_driver, id_city, id_tariff from df where assign_time is not null and order_time≥'2021-07-05' group by id_city, id_tariff "
   ]
  },
  {
   "cell_type": "code",
   "execution_count": null,
   "id": "0d88b078",
   "metadata": {},
   "outputs": [],
   "source": [
    "df1 = df[(df['order_time'] > '2021-07-05') \n",
    "           & (df['assign_time'].notnull())].groupby(['id_city', 'id_tariff']).agg({\n",
    "                                                'assign_time': 'count'\n",
    "                                                , 'id_driver': 'sum'\n",
    "                                                }).reset_index().rename(columns={'assign_time':'cnt'\n",
    "                                                 , 'id_driver': 'sum_id_driver'\n",
    "                                                 })\n",
    "                                                  "
   ]
  },
  {
   "cell_type": "code",
   "execution_count": null,
   "id": "6e13f995",
   "metadata": {},
   "outputs": [],
   "source": []
  }
 ],
 "metadata": {
  "kernelspec": {
   "display_name": "Python 3",
   "language": "python",
   "name": "python3"
  },
  "language_info": {
   "codemirror_mode": {
    "name": "ipython",
    "version": 3
   },
   "file_extension": ".py",
   "mimetype": "text/x-python",
   "name": "python",
   "nbconvert_exporter": "python",
   "pygments_lexer": "ipython3",
   "version": "3.8.8"
  }
 },
 "nbformat": 4,
 "nbformat_minor": 5
}
