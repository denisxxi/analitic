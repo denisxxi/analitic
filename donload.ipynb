{
 "cells": [
  {
   "cell_type": "code",
   "execution_count": null,
   "id": "201fb5a6",
   "metadata": {},
   "outputs": [],
   "source": []
  },
  {
   "cell_type": "markdown",
   "id": "ffaa8d25",
   "metadata": {},
   "source": [
    "# Проверка парадокса Монти_Холла"
   ]
  },
  {
   "cell_type": "code",
   "execution_count": 1,
   "id": "ba6510cd",
   "metadata": {},
   "outputs": [],
   "source": [
    "import pandas as pd\n",
    "import numpy as np\n",
    "from random import randint"
   ]
  },
  {
   "cell_type": "code",
   "execution_count": 2,
   "id": "7ce79e71",
   "metadata": {},
   "outputs": [
    {
     "name": "stdout",
     "output_type": "stream",
     "text": [
      "Машина за первично выбранной дверью 333709 Машина за новой дверью 666291\n"
     ]
    }
   ],
   "source": [
    "v1=0\n",
    "v2=0\n",
    "# Первый цикл проводит эксперемент 1 000 000 раз.\n",
    "for i in range (0, 1000000):\n",
    "    m = randint(1, 3) # случайно размещаем машину за одной из 3 дверей.\n",
    "    v = randint(1, 3) # игрок выбирает любую дверь тоже случайно.\n",
    "    o = v\n",
    "    while o == m or o == v: # о - открытая пустая дверь. Дверь, за которой нет машины m и ее не выбрал игрок v \n",
    "        o = randint(1, 3) # Ведущий открывает дверь. Дальше идет переход на строку наверх для проверки условия.\n",
    "    if v == m: # Если машина там, где предположил игрок.\n",
    "        v1 = v1+1\n",
    "    else:\n",
    "        v2 = v2+1 # Если за другой дверью.\n",
    "      \n",
    "print (\"Машина за первично выбранной дверью\", v1, \"Машина за новой дверью\", v2)  "
   ]
  }
 ],
 "metadata": {
  "kernelspec": {
   "display_name": "Python 3",
   "language": "python",
   "name": "python3"
  },
  "language_info": {
   "codemirror_mode": {
    "name": "ipython",
    "version": 3
   },
   "file_extension": ".py",
   "mimetype": "text/x-python",
   "name": "python",
   "nbconvert_exporter": "python",
   "pygments_lexer": "ipython3",
   "version": "3.8.8"
  }
 },
 "nbformat": 4,
 "nbformat_minor": 5
}
