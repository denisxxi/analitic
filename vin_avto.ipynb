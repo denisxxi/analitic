{
 "cells": [
  {
   "cell_type": "code",
   "execution_count": 1,
   "id": "81babfd9",
   "metadata": {},
   "outputs": [],
   "source": [
    "import pandas as pd"
   ]
  },
  {
   "cell_type": "code",
   "execution_count": 2,
   "id": "fcb72c00",
   "metadata": {},
   "outputs": [],
   "source": [
    "df = pd.read_csv('C:/Users/oftve/Downloads/airportvisit.csv')\n"
   ]
  },
  {
   "cell_type": "code",
   "execution_count": 36,
   "id": "0f642ea9",
   "metadata": {},
   "outputs": [],
   "source": [
    "#  задача функции разбить время стояния такси в аэропортах на три винтажа. Время в абсолютных значениях.\n",
    "def vintagi (d, t1, t2, t_gr):\n",
    "    c=[]\n",
    "    cc=()\n",
    "    d[t1] = pd.to_datetime(d[t1])\n",
    "    d[t2] = pd.to_datetime(d[t2])\n",
    "    d['delta'] = d[t2] - d[t1]\n",
    "    d['delta'] = df['delta'].dt.components['hours']\n",
    "    qq = int (d['delta'].max ())\n",
    "    d[1] = [1 if x >= 0 else 0 for x in d['delta']]\n",
    "    rr = int (qq/3)\n",
    "    c.append(1)\n",
    "    for i in range (3, qq,rr):\n",
    "        \n",
    "        d[i] = [1 if x > i else 0 for x in df['delta']]\n",
    "        c.append(i)\n",
    "        cc=tuple(c)\n",
    "       \n",
    "\n",
    "    dd = d.groupby([t_gr]).sum()[c].reset_index() \n",
    "    \n",
    "    return dd"
   ]
  },
  {
   "cell_type": "code",
   "execution_count": 40,
   "id": "d862be77",
   "metadata": {},
   "outputs": [],
   "source": [
    "dd = vintagi (df, 'time_came', 'time_left', 'id_port') "
   ]
  },
  {
   "cell_type": "code",
   "execution_count": 41,
   "id": "e7ae975e",
   "metadata": {},
   "outputs": [
    {
     "data": {
      "text/html": [
       "<div>\n",
       "<style scoped>\n",
       "    .dataframe tbody tr th:only-of-type {\n",
       "        vertical-align: middle;\n",
       "    }\n",
       "\n",
       "    .dataframe tbody tr th {\n",
       "        vertical-align: top;\n",
       "    }\n",
       "\n",
       "    .dataframe thead th {\n",
       "        text-align: right;\n",
       "    }\n",
       "</style>\n",
       "<table border=\"1\" class=\"dataframe\">\n",
       "  <thead>\n",
       "    <tr style=\"text-align: right;\">\n",
       "      <th></th>\n",
       "      <th>id_port</th>\n",
       "      <th>1</th>\n",
       "      <th>3</th>\n",
       "      <th>6</th>\n",
       "    </tr>\n",
       "  </thead>\n",
       "  <tbody>\n",
       "    <tr>\n",
       "      <th>0</th>\n",
       "      <td>Аэропорт Сочи</td>\n",
       "      <td>73</td>\n",
       "      <td>42</td>\n",
       "      <td>23</td>\n",
       "    </tr>\n",
       "    <tr>\n",
       "      <th>1</th>\n",
       "      <td>Внуково</td>\n",
       "      <td>157</td>\n",
       "      <td>94</td>\n",
       "      <td>38</td>\n",
       "    </tr>\n",
       "    <tr>\n",
       "      <th>2</th>\n",
       "      <td>Домодедово</td>\n",
       "      <td>328</td>\n",
       "      <td>186</td>\n",
       "      <td>86</td>\n",
       "    </tr>\n",
       "    <tr>\n",
       "      <th>3</th>\n",
       "      <td>Кольцово</td>\n",
       "      <td>92</td>\n",
       "      <td>50</td>\n",
       "      <td>19</td>\n",
       "    </tr>\n",
       "    <tr>\n",
       "      <th>4</th>\n",
       "      <td>Пулково</td>\n",
       "      <td>347</td>\n",
       "      <td>201</td>\n",
       "      <td>74</td>\n",
       "    </tr>\n",
       "    <tr>\n",
       "      <th>5</th>\n",
       "      <td>Шереметьево</td>\n",
       "      <td>225</td>\n",
       "      <td>129</td>\n",
       "      <td>64</td>\n",
       "    </tr>\n",
       "  </tbody>\n",
       "</table>\n",
       "</div>"
      ],
      "text/plain": [
       "         id_port    1    3   6\n",
       "0  Аэропорт Сочи   73   42  23\n",
       "1        Внуково  157   94  38\n",
       "2     Домодедово  328  186  86\n",
       "3       Кольцово   92   50  19\n",
       "4        Пулково  347  201  74\n",
       "5    Шереметьево  225  129  64"
      ]
     },
     "execution_count": 41,
     "metadata": {},
     "output_type": "execute_result"
    }
   ],
   "source": [
    "dd\n"
   ]
  },
  {
   "cell_type": "code",
   "execution_count": null,
   "id": "f3cd1c10",
   "metadata": {},
   "outputs": [],
   "source": []
  }
 ],
 "metadata": {
  "kernelspec": {
   "display_name": "Python 3",
   "language": "python",
   "name": "python3"
  },
  "language_info": {
   "codemirror_mode": {
    "name": "ipython",
    "version": 3
   },
   "file_extension": ".py",
   "mimetype": "text/x-python",
   "name": "python",
   "nbconvert_exporter": "python",
   "pygments_lexer": "ipython3",
   "version": "3.8.8"
  }
 },
 "nbformat": 4,
 "nbformat_minor": 5
}
